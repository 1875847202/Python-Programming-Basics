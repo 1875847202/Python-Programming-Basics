{
 "cells": [
  {
   "cell_type": "code",
   "execution_count": 1,
   "metadata": {},
   "outputs": [
    {
     "data": {
      "text/plain": [
       "'\\n列表推导式太浪费内存空间了，在建立一个列表时就已经为其开辟了内存空间，\\n但是不一定能访问到所有元素\\n\\n'"
      ]
     },
     "execution_count": 1,
     "metadata": {},
     "output_type": "execute_result"
    }
   ],
   "source": [
    "#一边计算一边循环的机制----生成器\n",
    "\"\"\"\n",
    "列表推导式太浪费内存空间了，在建立一个列表时就已经为其开辟了内存空间，\n",
    "但是不一定能访问到所有元素\n",
    "\n",
    "\"\"\""
   ]
  },
  {
   "cell_type": "code",
   "execution_count": null,
   "metadata": {},
   "outputs": [],
   "source": [
    "#得到生成器方式：\n",
    "\"\"\"\n",
    "1.通过列表推导得到生成器\n",
    "\n",
    "\n",
    "\n",
    "\n",
    "\"\"\""
   ]
  },
  {
   "cell_type": "code",
   "execution_count": 29,
   "metadata": {},
   "outputs": [
    {
     "name": "stdout",
     "output_type": "stream",
     "text": [
      "6\n",
      "9\n"
     ]
    }
   ],
   "source": [
    "list = [x*3 for x in range(20)]\n",
    "#后面这些元素可能用不了，但是这些数据依然占据内存空间\n",
    "\n",
    "#得到生成器\n",
    "list_7 = (x*3 for x in range(10))\n",
    "#如何取出数据\n",
    "\n",
    "#方式1：通过调用__next__()\n",
    "s = list_7.__next__()\n",
    "s1 = list_7.__next__()\n",
    "\n",
    "#方式2：next()   #系统内置函数\n",
    "#每调用一次则产生一个元素\n",
    "print(next(list_7))\n",
    "print(next(list_7))"
   ]
  },
  {
   "cell_type": "code",
   "execution_count": 30,
   "metadata": {},
   "outputs": [
    {
     "name": "stdout",
     "output_type": "stream",
     "text": [
      "12\n",
      "15\n",
      "18\n",
      "21\n",
      "24\n",
      "27\n",
      "没有更多元素\n"
     ]
    }
   ],
   "source": [
    "list_8 = (x*3 for x in range(10))\n",
    "while True:\n",
    "    try:\n",
    "        e = next(list_7)\n",
    "        print(e)\n",
    "    except:\n",
    "        print(\"没有更多元素\")\n",
    "        break"
   ]
  },
  {
   "cell_type": "code",
   "execution_count": 2,
   "metadata": {},
   "outputs": [
    {
     "data": {
      "text/plain": [
       "1"
      ]
     },
     "execution_count": 2,
     "metadata": {},
     "output_type": "execute_result"
    }
   ],
   "source": [
    "#定义生成器的方式2：借助函数生成\n",
    "\n",
    "\n",
    "#只要函数中出现了keyword：yeild，则函数变为生成器\n",
    "\n",
    "def func():\n",
    "    n = 0\n",
    "    while True:\n",
    "        n+=1\n",
    "        yield n    #return n 暂停\n",
    "z = func() \n",
    "z.__next__()"
   ]
  },
  {
   "cell_type": "code",
   "execution_count": 1,
   "metadata": {},
   "outputs": [
    {
     "data": {
      "text/plain": [
       "'\\n步骤：\\n1.定义一个函数，函数中使用关键字yield\\n2.调用函数，接收调用的结果\\n3.得到的结果为生成器\\n4.借助于next()或者__next__()\\n\\n\\n'"
      ]
     },
     "execution_count": 1,
     "metadata": {},
     "output_type": "execute_result"
    }
   ],
   "source": [
    "#菲波那切数列\n",
    "\n",
    "\"\"\"\n",
    "步骤：\n",
    "1.定义一个函数，函数中使用关键字yield\n",
    "2.调用函数，接收调用的结果\n",
    "3.得到的结果为生成器\n",
    "4.借助于next()或者__next__()\n",
    "\n",
    "\n",
    "\"\"\"\n",
    "\n"
   ]
  },
  {
   "cell_type": "code",
   "execution_count": 9,
   "metadata": {},
   "outputs": [
    {
     "name": "stdout",
     "output_type": "stream",
     "text": [
      "1\n",
      "1\n",
      "1\n",
      "1\n",
      "2\n",
      "2\n",
      "3\n",
      "3\n"
     ]
    }
   ],
   "source": [
    "def fib(length):\n",
    "    a,b = 0,1\n",
    "    n = 0\n",
    "    \n",
    "    while  n<length:\n",
    "        print(b)\n",
    "        yield b  \n",
    "        a,b = b,a+b\n",
    "        n+=1\n",
    "z = fib(8)\n",
    "print(z.__next__())\n",
    "print(z.__next__())\n",
    "print(z.__next__())\n",
    "print(z.__next__())\n"
   ]
  }
 ],
 "metadata": {
  "kernelspec": {
   "display_name": "Python 3",
   "language": "python",
   "name": "python3"
  },
  "language_info": {
   "codemirror_mode": {
    "name": "ipython",
    "version": 3
   },
   "file_extension": ".py",
   "mimetype": "text/x-python",
   "name": "python",
   "nbconvert_exporter": "python",
   "pygments_lexer": "ipython3",
   "version": "3.8.5"
  }
 },
 "nbformat": 4,
 "nbformat_minor": 4
}
