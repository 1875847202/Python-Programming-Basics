{
 "cells": [
  {
   "cell_type": "code",
   "execution_count": 4,
   "metadata": {},
   "outputs": [
    {
     "data": {
      "text/plain": [
       "10"
      ]
     },
     "execution_count": 4,
     "metadata": {},
     "output_type": "execute_result"
    }
   ],
   "source": [
    "#复习：列表的拆装\n",
    "\n",
    "def addition(*args):\n",
    "    if len(args)>1:\n",
    "        sum = 0\n",
    "        for i in args:\n",
    "            sum += i\n",
    "        return sum\n",
    "    else:\n",
    "        return 0\n",
    "\n",
    "list = [1,2,3,4]\n",
    "addition(*list)"
   ]
  },
  {
   "cell_type": "code",
   "execution_count": 7,
   "metadata": {},
   "outputs": [
    {
     "data": {
      "text/plain": [
       "4950"
      ]
     },
     "execution_count": 7,
     "metadata": {},
     "output_type": "execute_result"
    }
   ],
   "source": [
    "#模块的导入\n",
    "\n",
    "import addition as ad\n",
    "list_1 = [i for i in range(0,100)]  #列表生成器\n",
    "\n",
    "#使用模块中的函数   模块名.变量、函数、类\n",
    "ad.add(*list_1)    #列表的拆装"
   ]
  },
  {
   "cell_type": "code",
   "execution_count": 40,
   "metadata": {},
   "outputs": [
    {
     "name": "stdout",
     "output_type": "stream",
     "text": [
      "修改后a的值： 106\n"
     ]
    }
   ],
   "source": [
    "#复习：装饰器\n",
    "\n",
    "def func(nubmer):\n",
    "    a = 100\n",
    "    \n",
    "    def inner_fun():\n",
    "        nonlocal a\n",
    "        nonlocal nubmer\n",
    "        nubmer += 1\n",
    "        for i in range(nubmer):\n",
    "            a += 1\n",
    "        print('修改后a的值：',a)\n",
    "    return inner_fun\n",
    "f = func(5)\n",
    "f()"
   ]
  },
  {
   "cell_type": "code",
   "execution_count": 54,
   "metadata": {},
   "outputs": [
    {
     "name": "stdout",
     "output_type": "stream",
     "text": [
      "<function func.<locals>.inner_fun at 0x00000232D454A0D0>\n",
      "--------------test-----------\n"
     ]
    }
   ],
   "source": [
    "#函数作为参数\n",
    "a = 50\n",
    "\n",
    "f1 = func(a)  #a是一个实参数\n",
    "print(f1)\n",
    "\n",
    "#地址引用\n",
    "def test():   #声明函数\n",
    "    print('--------------test-----------')\n",
    "t = test()"
   ]
  }
 ],
 "metadata": {
  "kernelspec": {
   "display_name": "Python 3",
   "language": "python",
   "name": "python3"
  },
  "language_info": {
   "codemirror_mode": {
    "name": "ipython",
    "version": 3
   },
   "file_extension": ".py",
   "mimetype": "text/x-python",
   "name": "python",
   "nbconvert_exporter": "python",
   "pygments_lexer": "ipython3",
   "version": "3.8.5"
  }
 },
 "nbformat": 4,
 "nbformat_minor": 4
}
