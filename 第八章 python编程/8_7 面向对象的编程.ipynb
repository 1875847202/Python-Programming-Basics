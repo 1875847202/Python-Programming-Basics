{
 "cells": [
  {
   "cell_type": "markdown",
   "metadata": {},
   "source": [
    "## 面向对象"
   ]
  },
  {
   "cell_type": "markdown",
   "metadata": {},
   "source": [
    "### 1.初识类"
   ]
  },
  {
   "cell_type": "code",
   "execution_count": 1,
   "metadata": {},
   "outputs": [
    {
     "name": "stdout",
     "output_type": "stream",
     "text": [
      "<class '__main__.Phone'>\n"
     ]
    }
   ],
   "source": [
    "class Phone:\n",
    "    brand = 'huawei'             #空类\n",
    "print(Phone)"
   ]
  },
  {
   "cell_type": "code",
   "execution_count": 2,
   "metadata": {},
   "outputs": [
    {
     "name": "stdout",
     "output_type": "stream",
     "text": [
      "<__main__.Phone object at 0x0000024213214D60>\n",
      "iphone\n",
      "xiaomi\n"
     ]
    }
   ],
   "source": [
    "#使用类创建对象\n",
    "yp = Phone()\n",
    "feifei = Phone()\n",
    "\n",
    "print(yp)\n",
    "yp.brand = 'iphone'\n",
    "print(yp.brand)\n",
    "feifei.brand = 'xiaomi'\n",
    "print(feifei.brand)"
   ]
  },
  {
   "cell_type": "code",
   "execution_count": 9,
   "metadata": {},
   "outputs": [
    {
     "data": {
      "text/plain": [
       "<__main__.Students at 0x24215186730>"
      ]
     },
     "execution_count": 9,
     "metadata": {},
     "output_type": "execute_result"
    }
   ],
   "source": [
    "#定义类和属性\n",
    "\n",
    "class Students:\n",
    "    name = 'xiaowei'\n",
    "    age = 2\n",
    "\n",
    "Students()"
   ]
  },
  {
   "cell_type": "code",
   "execution_count": 5,
   "metadata": {},
   "outputs": [
    {
     "name": "stdout",
     "output_type": "stream",
     "text": [
      "id pf yp.brand =  2482812250608\n",
      "id pf yp.brand =  2482812251696\n",
      "id of feifei.brand =  2482812250608\n",
      "2482813014992\n",
      "2482813015088\n"
     ]
    }
   ],
   "source": [
    "class Phone(object):   #定义类\n",
    "    #属性\n",
    "    brand = 'hauwie'\n",
    "\n",
    "    \n",
    "    \n",
    "    #方法\n",
    "    \n",
    "yp = Phone()\n",
    "feifei = Phone()\n",
    "print(\"id pf yp.brand = \",id(yp.brand))\n",
    "\n",
    "yp.brand = \"iphone\"\n",
    "print(\"id pf yp.brand = \",id(yp.brand))\n",
    "print(\"id of feifei.brand = \",id(feifei.brand))\n",
    "print(id(yp))\n",
    "print(id(feifei))"
   ]
  },
  {
   "cell_type": "markdown",
   "metadata": {},
   "source": [
    "### 2.类的定义和属性"
   ]
  },
  {
   "cell_type": "code",
   "execution_count": 6,
   "metadata": {},
   "outputs": [
    {
     "name": "stdout",
     "output_type": "stream",
     "text": [
      "18\n",
      "fenglulu\n",
      "1\n"
     ]
    }
   ],
   "source": [
    "class Students:\n",
    "    #类属性\n",
    "    name = \"xiaowei\"  #类属性\n",
    "    age =  2\n",
    "\n",
    "#使用类创建对象 ------------>动态创建对象属性\n",
    "xiaowei = Students()\n",
    "x = xiaowei.name\n",
    "xiaowei.age = 18     #对象属性\n",
    "print(xiaowei.age)\n",
    "\n",
    "#如果自己的空间中存在age属性，则不会在模型属性中去寻找\n",
    "\n",
    "ym = Students()\n",
    "ym.name = \"fenglulu\"\n",
    "ym.age = 1\n",
    "print(ym.name)\n",
    "print(ym.age)"
   ]
  },
  {
   "cell_type": "code",
   "execution_count": 7,
   "metadata": {},
   "outputs": [
    {
     "name": "stdout",
     "output_type": "stream",
     "text": [
      "1234\n"
     ]
    }
   ],
   "source": [
    "#访问类属性\n",
    "Students.age = 1234\n",
    "yx = Students()\n",
    "print(yx.age)"
   ]
  },
  {
   "cell_type": "markdown",
   "metadata": {},
   "source": [
    "### 3.类的动作:方法(动作)"
   ]
  },
  {
   "cell_type": "code",
   "execution_count": null,
   "metadata": {},
   "outputs": [],
   "source": [
    "#类方法：普通方法 类方法 静态方法 魔术方法\n",
    "\"\"\"\n",
    "普通方法：\n",
    "def 方法名(self[参数1，参数2，……])：\n",
    "\n",
    "\"\"\""
   ]
  },
  {
   "cell_type": "code",
   "execution_count": 107,
   "metadata": {},
   "outputs": [],
   "source": [
    "#构建类\n",
    "class Phone():\n",
    "    #属性\n",
    "    brand = 'xiaomi'\n",
    "    price = 4900\n",
    "    type = 'mate30 pro'\n",
    "    \n",
    "    #方法\n",
    "    #1.普通方法\n",
    "    def call(self):   #self：表示对象本身 对象调用call时，把对象自己传给call的参数\n",
    "        print('self-------',self)\n",
    "        print('正在访问通讯录：')\n",
    "        for person in self.address_book:\n",
    "            print(person.items())      #拿出字典的键值对\n",
    "        \n",
    "        print(\"正在打电话……\")\n",
    "        print('留言：',self.note)\n"
   ]
  },
  {
   "cell_type": "code",
   "execution_count": 106,
   "metadata": {},
   "outputs": [
    {
     "name": "stdout",
     "output_type": "stream",
     "text": [
      "self------- <__main__.Phone object at 0x0000024215692970>\n",
      "正在访问通讯录：\n",
      "dict_items([('17693476514', '于鹏')])\n",
      "dict_items([('17693476914', '菲菲')])\n",
      "正在打电话……\n",
      "留言： 我是p1的note\n"
     ]
    }
   ],
   "source": [
    "#创建对象p1\n",
    "p1 = Phone()\n",
    "p1.note = '我是p1的note'\n",
    "p1.address_book = [{'17693476514':'于鹏'},{'17693476914':'菲菲'}]\n",
    "p1.call()  #把当前对象传进类中方法call()"
   ]
  },
  {
   "cell_type": "code",
   "execution_count": 125,
   "metadata": {},
   "outputs": [
    {
     "name": "stdout",
     "output_type": "stream",
     "text": [
      "self------- <__main__.Phone object at 0x00000242157FE490>\n",
      "正在访问通讯录：\n",
      "dict_items([('17693486514', '于鹏三')])\n",
      "dict_items([('17393476914', '样菲菲')])\n",
      "正在打电话……\n",
      "留言： 我是p2的note……\n"
     ]
    }
   ],
   "source": [
    "#创建对象p2\n",
    "p2 = Phone()\n",
    "p2.note = '我是p2的note……'\n",
    "p2.address_book = [{'17693486514':'于鹏三'},{'17393476914':'样菲菲'}]\n",
    "p2.call()  #把当前对象传进类中方法call()"
   ]
  },
  {
   "cell_type": "code",
   "execution_count": 122,
   "metadata": {},
   "outputs": [
    {
     "name": "stdout",
     "output_type": "stream",
     "text": [
      "------ feifie\n"
     ]
    }
   ],
   "source": [
    "#函数 和 类里面定义的函数：方法\n",
    "\n",
    "def func(name):\n",
    "    print('------',name)\n",
    "    \n",
    "usename = 'feifie'\n",
    "func(usename)\n",
    "\n"
   ]
  },
  {
   "cell_type": "code",
   "execution_count": 46,
   "metadata": {},
   "outputs": [
    {
     "name": "stdout",
     "output_type": "stream",
     "text": [
      "-------->call\n",
      "价格： 4999\n",
      "-------->call\n",
      "价格： 5999\n"
     ]
    }
   ],
   "source": [
    "#魔术方法：__名字__()   魔术方法在创建对象时即实现系统级的调用\n",
    "\n",
    "#魔术方法之一：__init__() 初始化：对所有对象都标准化(让每个对象都统一化)\n",
    "class Phone():\n",
    "    \n",
    "    def __init__(self):  #初始化\n",
    "        self.brand = 'hauwei'\n",
    "        self.price = 4999\n",
    "        \n",
    "    def call(self):\n",
    "        print('-------->call')\n",
    "        print('价格：',self.price)\n",
    "#创建对象，但是不用程序员调用，因为系统自动执行\n",
    "\n",
    "p = Phone()\n",
    "p.call()\n",
    "\n",
    "\n",
    "p1 = Phone()\n",
    "p1.price = 5999\n",
    "p1.call()"
   ]
  },
  {
   "cell_type": "code",
   "execution_count": 70,
   "metadata": {},
   "outputs": [
    {
     "name": "stdout",
     "output_type": "stream",
     "text": [
      "张珊珊正在吃红烧肉！。。。\n",
      "张珊珊,今年18岁，正在跑步\n",
      "王五正在吃红烧肉！。。。\n",
      "王五,今年23岁，正在跑步\n"
     ]
    }
   ],
   "source": [
    "class Person():\n",
    "    \n",
    "    name = '张三'\n",
    "    \n",
    "    def __init__(self,name,age):   #参数是外界和函数的接口\n",
    "        self.name = name\n",
    "        self.age = age\n",
    "        \n",
    "    def eat(self):\n",
    "        print('{}正在吃红烧肉！。。。'.format(self.name))\n",
    "        \n",
    "    def run(self):\n",
    "        print('{},今年{}岁，正在跑步'.format(self.name,self.age))\n",
    "        \n",
    "p = Person('张珊珊',18)\n",
    "p.eat()\n",
    "p.run()\n",
    "\n",
    "p1 = Person('王五',23)\n",
    "p1.eat()\n",
    "p1.run()\n",
    "\n"
   ]
  },
  {
   "cell_type": "code",
   "execution_count": null,
   "metadata": {},
   "outputs": [],
   "source": []
  },
  {
   "cell_type": "code",
   "execution_count": null,
   "metadata": {},
   "outputs": [],
   "source": []
  },
  {
   "cell_type": "code",
   "execution_count": null,
   "metadata": {},
   "outputs": [],
   "source": []
  }
 ],
 "metadata": {
  "kernelspec": {
   "display_name": "Python 3",
   "language": "python",
   "name": "python3"
  },
  "language_info": {
   "codemirror_mode": {
    "name": "ipython",
    "version": 3
   },
   "file_extension": ".py",
   "mimetype": "text/x-python",
   "name": "python",
   "nbconvert_exporter": "python",
   "pygments_lexer": "ipython3",
   "version": "3.8.5"
  }
 },
 "nbformat": 4,
 "nbformat_minor": 4
}
