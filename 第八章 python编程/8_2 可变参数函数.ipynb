{
 "cells": [
  {
   "cell_type": "code",
   "execution_count": 13,
   "metadata": {},
   "outputs": [
    {
     "name": "stdout",
     "output_type": "stream",
     "text": [
      "(1,)\n",
      "(1, 2)\n",
      "(1, 2, 3)\n",
      "(1, 2, 3, 4)\n"
     ]
    }
   ],
   "source": [
    "#可变参数\n",
    "\n",
    "#定义方式\n",
    "def add(*args):   #可变参数\n",
    "    print(args)\n",
    "    \n",
    "add(1)        #（）空元组\n",
    "add(1,2)      #(1,2)元组\n",
    "add(1,2,3)    #（1,2,3）元组\n",
    "add(1,2,3,4)"
   ]
  },
  {
   "cell_type": "code",
   "execution_count": 22,
   "metadata": {},
   "outputs": [
    {
     "name": "stdout",
     "output_type": "stream",
     "text": [
      "我是毛坯房\n",
      "购买\n",
      "铺地板\n",
      "刷漆\n"
     ]
    }
   ],
   "source": [
    "#装饰器\n",
    "\n",
    "def zhaung(func):\n",
    "    a = 100\n",
    "    \n",
    "    def wra(*args,**kwargs):\n",
    "        func()\n",
    "        print(\"购买\")\n",
    "        \n",
    "    return wra\n",
    "\n",
    "def zhaung1(func):\n",
    "    a = 10000\n",
    "    \n",
    "    def wra(*args,**kwargs):\n",
    "        func()\n",
    "        print(\"铺地板\")\n",
    "        print(\"刷漆\")\n",
    "        \n",
    "    return wra\n",
    "\n",
    "@zhaung1\n",
    "@zhaung\n",
    "def house():\n",
    "    print(\"我是毛坯房\")\n",
    "    \n",
    "house()"
   ]
  },
  {
   "cell_type": "code",
   "execution_count": 62,
   "metadata": {},
   "outputs": [
    {
     "name": "stdout",
     "output_type": "stream",
     "text": [
      "这是一个简单的函数\n",
      "zhebhdbshc\n"
     ]
    }
   ],
   "source": [
    "def func():\n",
    "    print(\"这是一个简单的函数\")\n",
    "    \n",
    "def mm(func):\n",
    "    func()\n",
    "    print(\"zhebhdbshc\")\n",
    "    \n",
    "mm(func)"
   ]
  },
  {
   "cell_type": "code",
   "execution_count": null,
   "metadata": {},
   "outputs": [],
   "source": []
  }
 ],
 "metadata": {
  "kernelspec": {
   "display_name": "Python 3",
   "language": "python",
   "name": "python3"
  },
  "language_info": {
   "codemirror_mode": {
    "name": "ipython",
    "version": 3
   },
   "file_extension": ".py",
   "mimetype": "text/x-python",
   "name": "python",
   "nbconvert_exporter": "python",
   "pygments_lexer": "ipython3",
   "version": "3.8.5"
  }
 },
 "nbformat": 4,
 "nbformat_minor": 4
}
