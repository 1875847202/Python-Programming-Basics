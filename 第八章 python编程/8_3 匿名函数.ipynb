{
 "cells": [
  {
   "cell_type": "markdown",
   "metadata": {},
   "source": [
    "## 1.匿名函数定义"
   ]
  },
  {
   "cell_type": "code",
   "execution_count": 26,
   "metadata": {},
   "outputs": [
    {
     "data": {
      "text/plain": [
       "'\\n1.什么场景下使用匿名函数?\\n\\n2.使用场景：定义的函数非常简单或者代码比较少的时候，简化函数定义\\n\\n3.格式：lambda 参数1，参数2，.. : 运算\\n\\n'"
      ]
     },
     "execution_count": 26,
     "metadata": {},
     "output_type": "execute_result"
    }
   ],
   "source": [
    "\"\"\"\n",
    "1.什么场景下使用匿名函数?\n",
    "\n",
    "2.使用场景：定义的函数非常简单或者代码比较少的时候，简化函数定义\n",
    "\n",
    "3.格式：lambda 参数1，参数2，.. : 运算\n",
    "\n",
    "\"\"\""
   ]
  },
  {
   "cell_type": "code",
   "execution_count": 25,
   "metadata": {},
   "outputs": [
    {
     "data": {
      "text/plain": [
       "3"
      ]
     },
     "execution_count": 25,
     "metadata": {},
     "output_type": "execute_result"
    }
   ],
   "source": [
    "#例1\n",
    "\n",
    "def add(a,b):\n",
    "    s = a + b\n",
    "    return s\n",
    "add(2,4)\n",
    "\n",
    "#将函数func()匿名化\n",
    "s = lambda a,b : a+b     #此时s是一个接收函数的变量，也是一个函数\n",
    "\n",
    "#但是这个匿名函数如何执行———函数调用\n",
    "\n",
    "s(1,2)     #函数调用\n"
   ]
  },
  {
   "cell_type": "markdown",
   "metadata": {},
   "source": [
    "## 2，匿名函数作为函数参数"
   ]
  },
  {
   "cell_type": "code",
   "execution_count": 30,
   "metadata": {},
   "outputs": [
    {
     "name": "stdout",
     "output_type": "stream",
     "text": [
      "1 2\n",
      "<function <lambda> at 0x000001E4662A7B80>\n",
      "3\n"
     ]
    }
   ],
   "source": [
    "def func(x,y,func):\n",
    "    print(x,y)\n",
    "    print(func)\n",
    "    s = func(x,y)\n",
    "    print(s)\n",
    "\n",
    "func(1,2,lambda a,b:a+b)"
   ]
  },
  {
   "cell_type": "code",
   "execution_count": 43,
   "metadata": {},
   "outputs": [
    {
     "name": "stdout",
     "output_type": "stream",
     "text": [
      "9\n",
      "{'a': 63, 'b': 70}\n"
     ]
    }
   ],
   "source": [
    "l1 = [1,4,2,3,5,6,7,5,3,8,9]\n",
    "\n",
    "z = max(l1)\n",
    "print(z)\n",
    "\n",
    "l2 = [{\"a\":23,\"b\":20},{\"a\":25,\"b\":60},{\"a\":63,\"b\":70},{\"a\":43,\"b\":29}]\n",
    "\n",
    "#问题：寻找每个字典里面a的最大值\n",
    "m = max(l2,key=lambda x:x['a'])\n",
    "print(m)"
   ]
  },
  {
   "cell_type": "code",
   "execution_count": 56,
   "metadata": {},
   "outputs": [
    {
     "name": "stdout",
     "output_type": "stream",
     "text": [
      "[3, 44, 6, 69, 7, 8, 9, 7, 5, 10, 11]\n"
     ]
    }
   ],
   "source": [
    "#例\n",
    "\n",
    "#map函数：可以自动迭代可迭代对象\n",
    "\n",
    "list_1 = [1,42,4,67,5,6,7,5,3,8,9]\n",
    "result = map(lambda x:x+2,list_1)\n",
    "print(list(result))"
   ]
  },
  {
   "cell_type": "code",
   "execution_count": 67,
   "metadata": {},
   "outputs": [
    {
     "name": "stdout",
     "output_type": "stream",
     "text": [
      "total_time:0.000000\n"
     ]
    }
   ],
   "source": [
    "import time\n",
    "\n",
    "#对列表的奇数进行加1操作\n",
    "start = time.time()\n",
    "\n",
    "list_1 = [1,42,4,67,5,6,7,5,3,8,9]\n",
    "result_2 = map(lambda x:x if x%2 == 0 else x+1,list_1)\n",
    "list(result_2)\n",
    "\n",
    "end = time.time()\n",
    "print(\"total_time:%f\"%(end-start))"
   ]
  },
  {
   "cell_type": "code",
   "execution_count": 65,
   "metadata": {},
   "outputs": [],
   "source": [
    "list_1 = [1,42,4,67,5,6,7,5,3,8,9]\n",
    "for index,i in enumerate(list_3):\n",
    "    if i%2 != 0:\n",
    "        list_3[index] = i+1\n"
   ]
  },
  {
   "cell_type": "code",
   "execution_count": 68,
   "metadata": {},
   "outputs": [
    {
     "name": "stdout",
     "output_type": "stream",
     "text": [
      "total_time:0.000000\n"
     ]
    }
   ],
   "source": [
    "import time\n",
    "\n",
    "#对列表的奇数进行加1操作\n",
    "start = time.time()\n",
    "\n",
    "list_1 = [1,42,4,67,5,6,7,5,3,8,9]\n",
    "for index,i in enumerate(list_3):\n",
    "    if i%2 != 0:\n",
    "        list_3[index] = i+1\n",
    "\n",
    "end = time.time()\n",
    "print(\"total_time:%f\"%(end-start))"
   ]
  },
  {
   "cell_type": "code",
   "execution_count": 90,
   "metadata": {},
   "outputs": [
    {
     "data": {
      "text/plain": [
       "'\\n特点：\\n1.函数自己调用自己\\n2.一定要有截断设置\\n3.通常有一个入口\\n'"
      ]
     },
     "execution_count": 90,
     "metadata": {},
     "output_type": "execute_result"
    }
   ],
   "source": [
    "#函数的递归调用：\n",
    "\"\"\"\n",
    "特点：\n",
    "1.函数自己调用自己\n",
    "2.一定要有截断设置\n",
    "3.通常有一个入口\n",
    "\"\"\""
   ]
  },
  {
   "cell_type": "code",
   "execution_count": 85,
   "metadata": {},
   "outputs": [
    {
     "data": {
      "text/plain": [
       "3628800"
      ]
     },
     "execution_count": 85,
     "metadata": {},
     "output_type": "execute_result"
    }
   ],
   "source": [
    "#递归函数应用：\n",
    "def sum(n):\n",
    "    if n == 0:\n",
    "        return 1\n",
    "    else:\n",
    "        return n*sum(n-1)\n",
    "sum(10)"
   ]
  },
  {
   "cell_type": "code",
   "execution_count": 97,
   "metadata": {},
   "outputs": [
    {
     "name": "stdout",
     "output_type": "stream",
     "text": [
      "----> 10\n",
      "----> 9\n",
      "----> 8\n",
      "----> 7\n",
      "----> 6\n",
      "----> 5\n",
      "----> 4\n",
      "----> 3\n",
      "----> 2\n",
      "----> 1\n",
      "----> 0\n"
     ]
    }
   ],
   "source": [
    "def f1(n):\n",
    "    if n > 0:\n",
    "        print(\"---->\",n)\n",
    "        f1(n-1)\n",
    "    else:\n",
    "        print(\"---->\",0)\n",
    "        \n",
    "f1(10)"
   ]
  },
  {
   "cell_type": "code",
   "execution_count": 96,
   "metadata": {},
   "outputs": [
    {
     "name": "stdout",
     "output_type": "stream",
     "text": [
      "5051\n",
      "total_time:0.000997\n"
     ]
    }
   ],
   "source": [
    "import time\n",
    "\n",
    "#对列表的奇数进行加1操作\n",
    "start = time.time()\n",
    "\n",
    "def sum(n):\n",
    "    if n == 0:\n",
    "        return 1\n",
    "    else:\n",
    "        return n+sum(n-1)\n",
    "print(sum(100))\n",
    "\n",
    "end = time.time()\n",
    "print(\"total_time:%f\"%(end-start))"
   ]
  }
 ],
 "metadata": {
  "kernelspec": {
   "display_name": "Python 3",
   "language": "python",
   "name": "python3"
  },
  "language_info": {
   "codemirror_mode": {
    "name": "ipython",
    "version": 3
   },
   "file_extension": ".py",
   "mimetype": "text/x-python",
   "name": "python",
   "nbconvert_exporter": "python",
   "pygments_lexer": "ipython3",
   "version": "3.8.5"
  }
 },
 "nbformat": 4,
 "nbformat_minor": 4
}
