{
 "cells": [
  {
   "cell_type": "markdown",
   "metadata": {},
   "source": [
    "## 1.闭包"
   ]
  },
  {
   "cell_type": "markdown",
   "metadata": {},
   "source": [
    ">闭包：可以记录状态\n",
    ">>\n",
    ">例子\n",
    ">>\n",
    ">应用：可以用来保存某些参数状态，而且不会随着其他参数的改变而改变"
   ]
  },
  {
   "cell_type": "markdown",
   "metadata": {},
   "source": [
    "当你调用func（）---->a=6,b=9---->inner_func()内部函数中-----》返回内部函数（此时返回的内部函数已经受到记录此时的a和b的值，所以不会受到a,b该表的影响）"
   ]
  },
  {
   "cell_type": "code",
   "execution_count": 167,
   "metadata": {},
   "outputs": [
    {
     "name": "stdout",
     "output_type": "stream",
     "text": [
      "<function func.<locals>.inner_func at 0x00000233EDCAB700>\n",
      "100 99\n"
     ]
    }
   ],
   "source": [
    "#闭包\n",
    "#在函数中提到的函数(闭包可以记录状态)\n",
    "#条件：\n",
    "\"\"\"\n",
    "1.外部函数中定义了内部函数\n",
    "2.外部函数有返回值 \n",
    "3.返回的值是内部函数（名）\n",
    "4.内部函数引用了外部函数的变量\n",
    "\n",
    "\"\"\"\n",
    "#格式：\n",
    "\"\"\"\n",
    "def 外部函数():\n",
    "   ...\n",
    "   def 内部函数():\n",
    "       ...\n",
    "    return 内部函数名\n",
    "\n",
    "\"\"\"\n",
    "\n",
    "def func():\n",
    "    a = 100\n",
    "    \n",
    "    def inner_func():\n",
    "        b = 99\n",
    "        print(a,b)\n",
    "    #可以外部访问这个函数吗？\n",
    "    return inner_func\n",
    "    \n",
    "#func()\n",
    "#局部变量不能被调用 print(a)  \n",
    "#局部变量不能被调用 inner_func()\n",
    "\n",
    "x = func()\n",
    "print(x)\n",
    "\n",
    "#x（）表示调用内部函数\n",
    "x()"
   ]
  },
  {
   "cell_type": "code",
   "execution_count": 174,
   "metadata": {},
   "outputs": [
    {
     "name": "stdout",
     "output_type": "stream",
     "text": [
      "s = 20\n",
      "s = 25\n",
      "s = 22\n"
     ]
    }
   ],
   "source": [
    "#例子(闭包)\n",
    "def func(a,b):\n",
    "    c = 10\n",
    "    \n",
    "    def inner_f():\n",
    "        s = a + b + c\n",
    "        print(\"s =\",s)\n",
    "    return inner_f\n",
    "\n",
    "#调用func\n",
    "x = func(6,9)\n",
    "x1 = func(2,8)\n",
    "x2 = func(3,9)\n",
    "#有返回值的函数要接收\n",
    "x1()\n",
    "x()\n",
    "x2()"
   ]
  },
  {
   "cell_type": "code",
   "execution_count": 197,
   "metadata": {},
   "outputs": [
    {
     "name": "stdout",
     "output_type": "stream",
     "text": [
      "<function func.<locals>.inner_func2 at 0x00000233EDAC9E50>\n",
      "190\n",
      "-------->inner_func2 100\n",
      "hello\n"
     ]
    }
   ],
   "source": [
    "#闭包的应用\n",
    "#闭包\n",
    "def func():                        #函数被调用以后就加载到内存中\n",
    "    a = 100\n",
    "    \n",
    "    def inner_func1():\n",
    "        b = 90\n",
    "        \n",
    "        s = a + b\n",
    "        print(s)\n",
    "        \n",
    "    def inner_func2():\n",
    "        inner_func1()       #调用inner_func1()\n",
    "        print('-------->inner_func2',a)\n",
    "        return \"hello\"\n",
    "        \n",
    "    return inner_func2              #函数名<------>0x00000233EA9A9040\n",
    "\n",
    "#调用函数\n",
    "f = func()      #调用函数func()，把它的地址给变量f,f相当于定义了函数inner_func2()\n",
    "print(f)\n",
    "ff = f()        #调用函数inner_func2()\n",
    "print(ff)"
   ]
  },
  {
   "cell_type": "code",
   "execution_count": 214,
   "metadata": {},
   "outputs": [
    {
     "name": "stdout",
     "output_type": "stream",
     "text": [
      "当前是第1次访问\n",
      "当前是第2次访问\n",
      "当前是第3次访问\n"
     ]
    }
   ],
   "source": [
    "#计数器\n",
    "\n",
    "def generate_count():\n",
    "    container = [0]\n",
    "    \n",
    "    def add_one():\n",
    "        container[0] = container[0] + 1   #[1]\n",
    "        print(\"当前是第{}次访问\".format(container[0]))\n",
    "    return add_one\n",
    "\n",
    "#内部函数就是一个计数器\n",
    "counter = generate_count()\n",
    "\n",
    "counter()     # 第一次访问\n",
    "counter()     # 第二次访问\n",
    "counter()\n"
   ]
  },
  {
   "cell_type": "markdown",
   "metadata": {},
   "source": [
    "## 2.装饰器"
   ]
  },
  {
   "cell_type": "code",
   "execution_count": null,
   "metadata": {},
   "outputs": [],
   "source": [
    "\"\"\"\n",
    "加入购物车，付款，修改收货地址，。。。\n",
    "判断用户状态\n",
    "\"\"\"\n",
    "\n",
    "\n",
    "#对A函数的装饰，则把A当做参数传给装饰器"
   ]
  },
  {
   "cell_type": "code",
   "execution_count": 447,
   "metadata": {},
   "outputs": [
    {
     "name": "stdout",
     "output_type": "stream",
     "text": [
      "修改后的a： 106\n",
      "修改后的a： 151\n"
     ]
    }
   ],
   "source": [
    "def func(number):\n",
    "    a = 100\n",
    "\n",
    "    def inner_func():\n",
    "        nonlocal a          #局部修改\n",
    "        nonlocal number\n",
    "        number += 1\n",
    "        \n",
    "        for i in range(number):\n",
    "            a += 1    \n",
    "        print(\"修改后的a：\",a)\n",
    "#    print(\"未修改的a\",a)    \n",
    "    return inner_func\n",
    "#调用func()\n",
    "f = func(5)\n",
    "f()\n",
    "\n",
    "\n",
    "#函数作为参数\n",
    "b = 50\n",
    "\n",
    "f1 = func(b)    #b是一个实参\n",
    "f1()\n"
   ]
  },
  {
   "cell_type": "code",
   "execution_count": 300,
   "metadata": {},
   "outputs": [
    {
     "name": "stdout",
     "output_type": "stream",
     "text": [
      "<function test at 0x00000233EA9A91F0>\n",
      "-------tset-------\n",
      "-----------func\n"
     ]
    }
   ],
   "source": [
    "#地址引用\n",
    "a = 10  #声明整型变量\n",
    "b = a   #\n",
    "\n",
    "def test(): #声明函数\n",
    "    print(\"-------tset-------\")\n",
    "    \n",
    "#t = test   #声明一个函数，赋值给t\n",
    "#t()\n",
    "\n",
    "def func(f):\n",
    "    print(f)\n",
    "    f()\n",
    "    print(\"-----------func\")\n",
    "    \n",
    "#调用\n",
    "func(test)\n",
    "\n",
    "\"\"\"\n",
    "特点：\n",
    "1.函数A作为参数出现（函数B接受函数A作为参数）\n",
    "2.要有闭包的特点\n",
    "\"\"\"\n",
    "    \n",
    "#定义一个装饰器\n",
    "def decorate(func):\n",
    "    a = 100\n",
    "    \n",
    "    def wrapper():\n",
    "        print(\"---------->111111\")\n",
    "        func()\n",
    "        print(\"---------->222222\")\n",
    "        print(a)\n",
    "    return wrapper\n",
    "\n",
    "\n",
    "#装饰器使用\n",
    "#@decorate\n",
    "#def hourse():\n",
    "#    print(\"我是毛坯房\")\n",
    "    \n",
    "#def house1():\n",
    "#    hourse()\n",
    "#    print(\"刷漆\")\n",
    "#    print(\"铺地板\")\n",
    "    \n",
    "\n",
    "#调用函数    \n",
    "#house1()    \n"
   ]
  },
  {
   "cell_type": "code",
   "execution_count": 386,
   "metadata": {},
   "outputs": [
    {
     "name": "stdout",
     "output_type": "stream",
     "text": [
      "wrapper 外层打印测试\n",
      "wrapper加载完成\n",
      "我是毛胚房\n",
      "购买\n",
      "刷漆\n",
      "铺地板\n"
     ]
    }
   ],
   "source": [
    "#装饰器应用：用来扩展函数功能，而不改变原函数\n",
    "\n",
    "def decrate1(func):\n",
    "    a = 1000\n",
    "    print(\"wrapper 外层打印测试\")\n",
    "    \n",
    "    def wrapper1():\n",
    "        func()\n",
    "        print(\"购买\")\n",
    "        print(\"刷漆\")\n",
    "        print(\"铺地板\")\n",
    "    print(\"wrapper加载完成\")\n",
    "    return wrapper1       #闭包，要返回内部函数名\n",
    "\n",
    "@decrate1 \n",
    "def house():\n",
    "    print(\"我是毛胚房\")\n",
    "\n",
    "\"\"\"\n",
    "1.house被装饰函数，\n",
    "2.将被装饰函数作为参数传给装饰器decorate1\n",
    "3.执行装饰器decorate1函数\n",
    "\n",
    "\"\"\"\n",
    "\n",
    "house()\n",
    "\n",
    "\n"
   ]
  },
  {
   "cell_type": "code",
   "execution_count": 411,
   "metadata": {},
   "outputs": [
    {
     "name": "stdout",
     "output_type": "stream",
     "text": [
      "------f1------\n",
      "正在进行校验...\n",
      "校验完毕...\n",
      "------f2------\n"
     ]
    }
   ],
   "source": [
    "#登录校验\n",
    "import time\n",
    "\n",
    "def decorate(func):\n",
    "    \n",
    "    def wrapper():\n",
    "        #调用函数\n",
    "        func()\n",
    "        print('正在进行校验...')\n",
    "        time.sleep(10)   #停止，休眠\n",
    "        print('校验完毕...')\n",
    "        \n",
    "    return wrapper\n",
    "\n",
    "@decorate\n",
    "def f1():\n",
    "    print('------f1------')\n",
    "    \n",
    "def f2():\n",
    "    print('------f2------')\n",
    "    \n",
    "    \n",
    "f1()      #相当于wrapper\n",
    "f2()"
   ]
  },
  {
   "cell_type": "markdown",
   "metadata": {},
   "source": [
    "### 有单参数情形"
   ]
  },
  {
   "cell_type": "code",
   "execution_count": 412,
   "metadata": {},
   "outputs": [
    {
     "name": "stdout",
     "output_type": "stream",
     "text": [
      "正在进行登录校验...\n",
      "校验完毕...\n",
      "------f1------ 5\n",
      "正在进行登录校验...\n",
      "校验完毕...\n",
      "------f2------ lily\n",
      "正在进行登录校验...\n",
      "校验完毕...\n",
      "zhanghua\n",
      "liming\n",
      "yanghua\n"
     ]
    }
   ],
   "source": [
    "#登录校验\n",
    "import time\n",
    "\n",
    "def decorate(func):\n",
    "    \n",
    "    def wrapper(x):   #x = 5\n",
    "\n",
    "        print('正在进行登录校验...')\n",
    "        time.sleep(3)   #停止，休眠\n",
    "        print('校验完毕...')\n",
    "        #调用函数\n",
    "        func(x)    #f1 ,f2 ,f3\n",
    "        \n",
    "    return wrapper\n",
    "\n",
    "@decorate\n",
    "def f1(n):\n",
    "    print('------f1------',n)\n",
    "    \n",
    "f1(5)      #相当于wrapper,wrapper没有参数，不符合需求，怎么办？    \n",
    "  \n",
    "@decorate   \n",
    "def f2(name):\n",
    "    print('------f2------',name)\n",
    "\n",
    "f2('lily')     #字符串 \n",
    "\n",
    "\n",
    "@decorate\n",
    "def f3(students):\n",
    "    for stu in students:\n",
    "        print(stu)\n",
    "    \n",
    "students = ['zhanghua','liming','yanghua']\n",
    "f3(students)"
   ]
  },
  {
   "cell_type": "markdown",
   "metadata": {},
   "source": [
    "### 二参数情形----->通向万能装饰器之路"
   ]
  },
  {
   "cell_type": "code",
   "execution_count": 415,
   "metadata": {},
   "outputs": [
    {
     "name": "stdout",
     "output_type": "stream",
     "text": [
      "正在进行登录校验...\n",
      "校验完毕...\n",
      "------f1------ 5\n",
      "正在进行登录校验...\n",
      "校验完毕...\n",
      "------f2------ lily 17\n",
      "正在进行登录校验...\n",
      "校验完毕...\n",
      "zhanghua\n",
      "liming\n",
      "yanghua\n"
     ]
    }
   ],
   "source": [
    "#登录校验\n",
    "import time\n",
    "\n",
    "def decorate(func):\n",
    "    \n",
    "    def wrapper(*arg):   #x = 5\n",
    "\n",
    "        print('正在进行登录校验...')\n",
    "        time.sleep(3)   #停止，休眠\n",
    "        print('校验完毕...')\n",
    "        #调用函数\n",
    "        func(*arg)    #f1 ,f2 ,f3\n",
    "        \n",
    "    return wrapper\n",
    "\n",
    "@decorate\n",
    "def f1(n):\n",
    "    print('------f1------',n)\n",
    "    \n",
    "f1(5)      #相当于wrapper,wrapper没有参数，不符合需求，怎么办？    \n",
    "  \n",
    "@decorate   \n",
    "def f2(name,age):\n",
    "    print('------f2------',name,age)\n",
    "\n",
    "f2('lily',17)     #字符串 \n",
    "\n",
    "@decorate\n",
    "def f3(students):\n",
    "    for stu in students:\n",
    "        print(stu)\n",
    "    \n",
    "students = ['zhanghua','liming','yanghua']\n",
    "f3(students)"
   ]
  },
  {
   "cell_type": "markdown",
   "metadata": {},
   "source": [
    "### 多层装饰器"
   ]
  },
  {
   "cell_type": "code",
   "execution_count": 452,
   "metadata": {},
   "outputs": [
    {
     "name": "stdout",
     "output_type": "stream",
     "text": [
      "---------> 1 start\n",
      "我是毛坯房\n"
     ]
    }
   ],
   "source": [
    "#装饰器\n",
    "\n",
    "def zhuang(func):\n",
    "    print(\"---------> 1 start\")\n",
    "    \n",
    "    def wra():\n",
    "        func()\n",
    "        print(\"刷漆\")\n",
    "        \n",
    "    return wra\n",
    "\n",
    "\n",
    "@zhuang\n",
    "def house():\n",
    "    print(\"我是毛坯房\")\n",
    "\n",
    "hourse()"
   ]
  },
  {
   "cell_type": "code",
   "execution_count": 465,
   "metadata": {},
   "outputs": [
    {
     "name": "stdout",
     "output_type": "stream",
     "text": [
      "------付款------\n",
      "------用户没有登录，无法付款------\n",
      "输入用户名：admin\n",
      "输入密码123456\n",
      "result: True\n"
     ]
    }
   ],
   "source": [
    "#应用开发：登录验证\n",
    "import time\n",
    "\n",
    "islogin = False    #默认没有登录\n",
    "\n",
    "#定义一个登录函数\n",
    "\n",
    "def login():\n",
    "    usename = input(\"输入用户名：\")\n",
    "    password = input(\"输入密码\")\n",
    "    if usename == 'admin' and password == '123456':\n",
    "        return True\n",
    "    else:\n",
    "        return False\n",
    "\n",
    "#定义一个装饰器进行付款验证\n",
    "\n",
    "def login_required(func):\n",
    "    def wrapper(*args):\n",
    "        print('------付款------')\n",
    "        #验证用户是否登录\n",
    "        if islogin:\n",
    "            func(*args,**kwargs)\n",
    "        else:\n",
    "            #跳转到登录页面\n",
    "            print(\"------用户没有登录，无法付款------\")\n",
    "            result = login()\n",
    "            print(\"result:\",result)\n",
    "    \n",
    "    \n",
    "    return wrapper\n",
    "    \n",
    "\n",
    "@login_required    \n",
    "def pay(money):\n",
    "    print('正在付款，付款金额为{}元'.format(money))\n",
    "    print('付款中...')\n",
    "    time.sleep(3)\n",
    "    print('付款完成')\n",
    "    \n",
    "pay(10000)"
   ]
  },
  {
   "cell_type": "markdown",
   "metadata": {},
   "source": [
    "###  3.作用域：针对多层函数"
   ]
  },
  {
   "cell_type": "code",
   "execution_count": 11,
   "metadata": {},
   "outputs": [
    {
     "name": "stdout",
     "output_type": "stream",
     "text": [
      "1\n"
     ]
    }
   ],
   "source": [
    "a = 100\n",
    "\n",
    "def func():\n",
    "    a = 10\n",
    "    \n",
    "    def inner_func():\n",
    "        a = 1\n",
    "        print(a)   #作用域：找他最近的\n",
    "        \n",
    "    inner_func()\n",
    "func()\n"
   ]
  },
  {
   "cell_type": "code",
   "execution_count": 6,
   "metadata": {},
   "outputs": [
    {
     "data": {
      "text/plain": [
       "'\\nL: local 本地 局部变量\\n\\nE: encloseing 嵌套 \\n\\nG: Global 全局 \\n\\nB: built-in 内置的 python内置变量\\n\\n\\n'"
      ]
     },
     "execution_count": 6,
     "metadata": {},
     "output_type": "execute_result"
    }
   ],
   "source": [
    "#变量作用域：LEGB(针对函数嵌套)\n",
    "\n",
    "#对于多层函数变量的访问是从内往外搜索\n",
    "\n",
    "\"\"\"\n",
    "L: local 本地 局部变量\n",
    "\n",
    "E: encloseing 嵌套 \n",
    "\n",
    "G: Global 全局 全局变量\n",
    "\n",
    "B: built-in 内置的 python内置变量\n",
    "\n",
    "\n",
    "\"\"\""
   ]
  },
  {
   "cell_type": "code",
   "execution_count": 12,
   "metadata": {},
   "outputs": [
    {
     "name": "stdout",
     "output_type": "stream",
     "text": [
      "1\n"
     ]
    }
   ],
   "source": [
    "a = 100\n",
    "\n",
    "def func():\n",
    "    a = 10\n",
    "    \n",
    "    def inner_func():\n",
    "        a = 1\n",
    "        print(a)   #作用域：找他最近的\n",
    "        \n",
    "    inner_func()\n",
    "func()\n"
   ]
  },
  {
   "cell_type": "code",
   "execution_count": 13,
   "metadata": {},
   "outputs": [
    {
     "name": "stdout",
     "output_type": "stream",
     "text": [
      "10\n"
     ]
    }
   ],
   "source": [
    "a = 100\n",
    "\n",
    "def func():\n",
    "    a = 10\n",
    "    \n",
    "    def inner_func():\n",
    "#        a = 1\n",
    "        print(a)   #作用域：找他最近的\n",
    "        \n",
    "    inner_func()\n",
    "func()\n"
   ]
  },
  {
   "cell_type": "code",
   "execution_count": 14,
   "metadata": {},
   "outputs": [
    {
     "name": "stdout",
     "output_type": "stream",
     "text": [
      "100\n"
     ]
    }
   ],
   "source": [
    "a = 100\n",
    "\n",
    "def func():\n",
    "#    a = 10\n",
    "    \n",
    "    def inner_func():\n",
    "#        a = 1\n",
    "        print(a)   #作用域：找他最近的\n",
    "        \n",
    "    inner_func()\n",
    "func()\n"
   ]
  },
  {
   "cell_type": "code",
   "execution_count": 15,
   "metadata": {},
   "outputs": [
    {
     "name": "stdout",
     "output_type": "stream",
     "text": [
      "<built-in function max>\n"
     ]
    }
   ],
   "source": [
    "a = 100\n",
    "\n",
    "def func():\n",
    "    a = 10\n",
    "    \n",
    "    def inner_func():\n",
    "        a = 1\n",
    "        print(max)   #作用域：找他最近的\n",
    "        \n",
    "    inner_func()\n",
    "func()\n"
   ]
  },
  {
   "cell_type": "code",
   "execution_count": 24,
   "metadata": {},
   "outputs": [
    {
     "name": "stdout",
     "output_type": "stream",
     "text": [
      "<built-in function max> 10\n"
     ]
    }
   ],
   "source": [
    "#嵌套函数：内部函数\n",
    "\n",
    "\n",
    "a = 100\n",
    "\n",
    "def func(b):\n",
    "    a = 10\n",
    "    \n",
    "    def inner_func():\n",
    "        a = 1\n",
    "        print(max,b)   #作用域：找他最近的\n",
    "        \n",
    "    #inner_func()\n",
    "    \n",
    "    return inner_func\n",
    "\n",
    "f = func(10)\n",
    "f()        #访问内层函数\n"
   ]
  },
  {
   "cell_type": "code",
   "execution_count": null,
   "metadata": {},
   "outputs": [],
   "source": []
  },
  {
   "cell_type": "code",
   "execution_count": null,
   "metadata": {},
   "outputs": [],
   "source": []
  }
 ],
 "metadata": {
  "kernelspec": {
   "display_name": "Python 3",
   "language": "python",
   "name": "python3"
  },
  "language_info": {
   "codemirror_mode": {
    "name": "ipython",
    "version": 3
   },
   "file_extension": ".py",
   "mimetype": "text/x-python",
   "name": "python",
   "nbconvert_exporter": "python",
   "pygments_lexer": "ipython3",
   "version": "3.8.5"
  }
 },
 "nbformat": 4,
 "nbformat_minor": 4
}
