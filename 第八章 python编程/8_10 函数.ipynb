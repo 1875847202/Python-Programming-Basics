{
 "cells": [
  {
   "cell_type": "code",
   "execution_count": 102,
   "metadata": {},
   "outputs": [],
   "source": [
    "#带返回值的函数调用时，要用一个变量去接收，然后调用"
   ]
  },
  {
   "cell_type": "code",
   "execution_count": 101,
   "metadata": {},
   "outputs": [
    {
     "name": "stdout",
     "output_type": "stream",
     "text": [
      "修改后的name： 月月会弹吉他\n",
      "小月月弹吉他\n",
      "abcdX 月月会弹吉他\n"
     ]
    }
   ],
   "source": [
    "#局部变量 全局变量\n",
    "#声明在函数外侧的变量为全局变量，所有函数都可以访问\n",
    "#全局变量如果不可变，则在函数中修改需要添加global，若不可变，则不需要\n",
    "name = '月月'\n",
    "\n",
    "def func():\n",
    "    #函数内部声明的变量：局部变量（仅仅在函数内部使用）\n",
    "    s = 'abcd'\n",
    "    s += 'X'\n",
    "    \n",
    "    print(s,name)  #name这个全局变量被修改\n",
    "\n",
    "#print(s) 报错\n",
    "\n",
    "def func1():\n",
    "    global name  #不修改不需要声明global，需要修改全局变量则需要声明global\n",
    "#    print(s)    报错 \n",
    "#    print(name)  #报错 函数内部变量可以随便修改赋值，但是全局变量不可随意修改\n",
    "    name += '会弹吉他' \n",
    "    print('修改后的name：',name)\n",
    "    \n",
    "func1()\n",
    "def func2():\n",
    "    name = '小月月'  #局部变量与全局变量同名 变量作用域\n",
    "    name += '弹吉他' #字符串拼接\n",
    "    print(name)\n",
    "func2()\n",
    "func()"
   ]
  },
  {
   "cell_type": "code",
   "execution_count": 68,
   "metadata": {},
   "outputs": [
    {
     "name": "stdout",
     "output_type": "stream",
     "text": [
      "修改后的n： 200\n",
      "[203, 204, 206, 209]\n"
     ]
    }
   ],
   "source": [
    "#内部函数\n",
    "\n",
    "def func():\n",
    "    #声明变量\n",
    "    n = 100 #局部变量\n",
    "    list = [3,6,9,4]\n",
    "    \n",
    "    #内部函数声明\n",
    "    def inner_func():   #函数声明\n",
    "        nonlocal n\n",
    "        n += 100     #nonlocal修改不可变的局部变量\n",
    "        #对list的元素加法操作\n",
    "        for index,i in enumerate(list):   #枚举\n",
    "            list[index] = i + n  #内部函数可以访问外部函数的变量\n",
    "           \n",
    "        list.sort()\n",
    "        \n",
    "    #内部函数也需要调用才能起作用\n",
    "    inner_func() #内部函数调用\n",
    "    \n",
    "    print('修改后的n：',n)\n",
    "            \n",
    "    print(list)\n",
    "    \n",
    "func()\n"
   ]
  },
  {
   "cell_type": "code",
   "execution_count": 67,
   "metadata": {},
   "outputs": [
    {
     "name": "stdout",
     "output_type": "stream",
     "text": [
      "100 99\n"
     ]
    }
   ],
   "source": [
    "#闭包\n",
    "#在函数中提出的概念，\n",
    "\n",
    "def func():\n",
    "    a = 100\n",
    "    \n",
    "    def inner_func():  #声明内部函数\n",
    "        b = 99\n",
    "        print(a,b)\n",
    "        \n",
    "    #调用内部函数\n",
    "    inner_func()\n",
    "func()\n",
    "\n"
   ]
  },
  {
   "cell_type": "code",
   "execution_count": 66,
   "metadata": {},
   "outputs": [
    {
     "data": {
      "text/plain": [
       "100"
      ]
     },
     "execution_count": 66,
     "metadata": {},
     "output_type": "execute_result"
    }
   ],
   "source": [
    "def func():\n",
    "    a = 100\n",
    "    \n",
    "    def inner_func():  #声明内部函数\n",
    "        b = 99\n",
    "#        print(a,b)\n",
    "        \n",
    "    #调用内部函数\n",
    "    inner_func()\n",
    "    return a\n",
    "\n",
    "#如何访问局部变量a的值 ----->返回值为a\n",
    "func()"
   ]
  },
  {
   "cell_type": "code",
   "execution_count": 69,
   "metadata": {},
   "outputs": [
    {
     "name": "stdout",
     "output_type": "stream",
     "text": [
      "100 99\n"
     ]
    }
   ],
   "source": [
    "#但是如何访问内部函数inner_func() ----->返回值为inner_func\n",
    "def func():\n",
    "    a = 100\n",
    "    \n",
    "    def inner_func():  #声明内部函数\n",
    "        b = 99\n",
    "        print(a,b)\n",
    "        \n",
    "    #调用内部函数\n",
    "   # inner_func()\n",
    "    return inner_func\n",
    "\n",
    "#如何访问局部变量a的值 ----->返回值为a\n",
    "\n",
    "#外部调用内部函数的方式\n",
    "x = func()\n",
    "\n",
    "#函数名()表示调用\n",
    "x()"
   ]
  },
  {
   "cell_type": "code",
   "execution_count": 3,
   "metadata": {
    "scrolled": true
   },
   "outputs": [
    {
     "name": "stdout",
     "output_type": "stream",
     "text": [
      "相加后的结果： 13\n",
      "相加后的结果： 14\n"
     ]
    }
   ],
   "source": [
    "#闭包\n",
    "#作用：\n",
    "\"\"\"\n",
    "1.保存返回闭包时的变量的状态（外层函数值的状态）\n",
    "2.只要创建一个内部函数，就永远占据着一块内存，且永远不会被回收\n",
    "\n",
    "\"\"\"\n",
    "\n",
    "def func(a,b):\n",
    "    c = 10\n",
    "    \n",
    "    def inner_func():\n",
    "        s = a + b + c\n",
    "        print('相加后的结果：',s)\n",
    "    return inner_func\n",
    "\n",
    "x = func(1,2)   #有返回值的函数单纯调用没有用，必须用一个变量去接收\n",
    "y = func(2,2)\n",
    "x()\n",
    "y()"
   ]
  },
  {
   "cell_type": "code",
   "execution_count": 35,
   "metadata": {},
   "outputs": [
    {
     "name": "stdout",
     "output_type": "stream",
     "text": [
      "190\n",
      "------------>\n"
     ]
    },
    {
     "data": {
      "text/plain": [
       "'hello'"
      ]
     },
     "execution_count": 35,
     "metadata": {},
     "output_type": "execute_result"
    }
   ],
   "source": [
    "#闭包的同级访问\n",
    "def func():\n",
    "    a = 100\n",
    "    \n",
    "    def inner_func1():\n",
    "        b = 90\n",
    "        \n",
    "        s = a + b\n",
    "        print(s)\n",
    "  \n",
    "    def inner_func2():\n",
    "        inner_func1()   #闭包的同级访问\n",
    "        print('------------>')\n",
    "        return 'hello'\n",
    "        \n",
    "    return inner_func2\n",
    "\n",
    "x = func() #1.先调用，2.调用后的结果赋值给x\n",
    "x()"
   ]
  },
  {
   "cell_type": "code",
   "execution_count": null,
   "metadata": {},
   "outputs": [],
   "source": []
  },
  {
   "cell_type": "code",
   "execution_count": null,
   "metadata": {},
   "outputs": [],
   "source": []
  },
  {
   "cell_type": "code",
   "execution_count": 51,
   "metadata": {},
   "outputs": [
    {
     "name": "stdout",
     "output_type": "stream",
     "text": [
      "修改后的a： 103\n"
     ]
    }
   ],
   "source": [
    "#装饰器\n",
    "\n",
    "\"\"\"\n",
    "加入购物车、付款、修改地址 ……\n",
    "判断用户登录状态\n",
    "\"\"\"\n",
    "\n",
    "def func(num):\n",
    "    a = 100\n",
    "    \n",
    "    def inner_func():\n",
    "        nonlocal a\n",
    "        nonlocal num\n",
    "        num += 1\n",
    "        for i in range(num):\n",
    "            a += 1\n",
    "        print('修改后的a：',a)\n",
    "    return inner_func\n",
    "\n",
    "#调用func（）\n",
    "f = func(2)\n",
    "f()"
   ]
  },
  {
   "cell_type": "code",
   "execution_count": 58,
   "metadata": {},
   "outputs": [
    {
     "name": "stdout",
     "output_type": "stream",
     "text": [
      "修改后的a： 151\n"
     ]
    }
   ],
   "source": [
    "#函数作为参数\n",
    "a = 50\n",
    "\n",
    "f1 = func(a)  #a是一个实参\n",
    "f1()\n",
    "  "
   ]
  },
  {
   "cell_type": "code",
   "execution_count": 64,
   "metadata": {},
   "outputs": [],
   "source": [
    "#地址引用\n",
    "a = 10   #声明整型变量\n",
    "b = a    #赋值"
   ]
  },
  {
   "cell_type": "code",
   "execution_count": 77,
   "metadata": {},
   "outputs": [
    {
     "name": "stdout",
     "output_type": "stream",
     "text": [
      "<function test at 0x00000258F53ADDC0>\n",
      "-------test--------\n",
      "------------------>func\n"
     ]
    },
    {
     "data": {
      "text/plain": [
       "'\\n特点：\\n1.函数作为参数传递给另外一个函数\\n2.要有闭包的特点\\n\\n'"
      ]
     },
     "execution_count": 77,
     "metadata": {},
     "output_type": "execute_result"
    }
   ],
   "source": [
    "#地址引用\n",
    "def test():\n",
    "    print('-------test--------')\n",
    "    \n",
    "#t = test\n",
    "#t()\n",
    "\n",
    "def func(f):\n",
    "    print(f)   #打印f所在的地址\n",
    "    #调用f\n",
    "    f()\n",
    "    print('------------------>func')\n",
    "   \n",
    "\n",
    "func(test)\n",
    "\n",
    "\"\"\"\n",
    "特点：\n",
    "1.函数作为参数传递给另外一个函数\n",
    "2.要有闭包的特点\n",
    "\n",
    "\"\"\""
   ]
  },
  {
   "cell_type": "code",
   "execution_count": 95,
   "metadata": {},
   "outputs": [
    {
     "name": "stdout",
     "output_type": "stream",
     "text": [
      "--------->11111\n",
      "我是毛坯房\n",
      "--------->22222\n",
      "a的值： 100\n"
     ]
    }
   ],
   "source": [
    "#闭包\n",
    "#函数作为参数\n",
    "\n",
    "def decorate(func):\n",
    "    a = 100\n",
    "    \n",
    "    def wrapper():\n",
    "        print('--------->11111')\n",
    "        func()\n",
    "        print('--------->22222')\n",
    "        print('a的值：',a)\n",
    "        \n",
    "    return wrapper\n",
    "\n",
    "def hourse():\n",
    "    print('我是毛坯房')\n",
    "    \n",
    "f2 = decorate(hourse)\n",
    "f2()"
   ]
  },
  {
   "cell_type": "code",
   "execution_count": 103,
   "metadata": {},
   "outputs": [],
   "source": [
    "#装饰器定义\n",
    "\n",
    "def decorate(func):\n",
    "    a = 100\n",
    "    \n",
    "    def wrapper():\n",
    "        print('--------->11111')\n",
    "        func()\n",
    "        print('--------->22222')\n",
    "        print('a的值：',a)\n",
    "        \n",
    "    return wrapper\n",
    "\n",
    "@decorate                            #增加新功能\n",
    "def hourse():\n",
    "    print('我是毛坯房')\n",
    "    \n",
    "#hourse()"
   ]
  },
  {
   "cell_type": "code",
   "execution_count": 104,
   "metadata": {},
   "outputs": [],
   "source": []
  },
  {
   "cell_type": "code",
   "execution_count": null,
   "metadata": {},
   "outputs": [],
   "source": []
  }
 ],
 "metadata": {
  "kernelspec": {
   "display_name": "Python 3",
   "language": "python",
   "name": "python3"
  },
  "language_info": {
   "codemirror_mode": {
    "name": "ipython",
    "version": 3
   },
   "file_extension": ".py",
   "mimetype": "text/x-python",
   "name": "python",
   "nbconvert_exporter": "python",
   "pygments_lexer": "ipython3",
   "version": "3.8.5"
  }
 },
 "nbformat": 4,
 "nbformat_minor": 4
}
